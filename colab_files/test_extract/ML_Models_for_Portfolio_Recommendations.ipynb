{
  "cells": [
    {
      "cell_type": "markdown",
      "metadata": {
        "id": "view-in-github"
      },
      "source": [
        "# ML Models for Sustainable Investment Portfolio\n",
        "\n",
        "This notebook demonstrates the machine learning models used in the Sustainable Investment Portfolio application to provide AI-powered recommendations and analysis."
      ]
    },
    {
      "cell_type": "markdown",
      "metadata": {},
      "source": [
        "## Setup\n",
        "\n",
        "First, let's install the required packages:"
      ]
    },
    {
      "cell_type": "code",
      "execution_count": null,
      "metadata": {},
      "source": [
        "!pip install scikit-learn pandas numpy matplotlib seaborn joblib wordcloud"
      ]
    },
    {
      "cell_type": "markdown",
      "metadata": {},
      "source": [
        "## Generate Dataset\n",
        "\n",
        "Let's generate a large dataset for our ML models:"
      ]
    },
    {
      "cell_type": "code",
      "execution_count": null,
      "metadata": {},
      "source": [
        "# Upload the dataset generator script\n",
        "from google.colab import files\n",
        "uploaded = files.upload()  # Upload large_portfolio_dataset.py\n",
        "\n",
        "# Run the script to generate the dataset\n",
        "!python large_portfolio_dataset.py"
      ]
    },
    {
      "cell_type": "code",
      "execution_count": null,
      "metadata": {},
      "source": [
        "# Upload the market news generator script\n",
        "uploaded = files.upload()  # Upload market_news_generator.py\n",
        "\n",
        "# Run the script to generate the market news dataset\n",
        "!python market_news_generator.py"
      ]
    },
    {
      "cell_type": "code",
      "execution_count": null,
      "metadata": {},
      "source": [
        "# Load the generated datasets\n",
        "import pandas as pd\n",
        "import numpy as np\n",
        "import matplotlib.pyplot as plt\n",
        "import seaborn as sns\n",
        "\n",
        "# Set plot style\n",
        "plt.style.use('dark_background')\n",
        "sns.set_style(\"darkgrid\")\n",
        "\n",
        "# Load portfolio dataset\n",
        "portfolio_df = pd.read_csv('large_portfolio_dataset.csv')\n",
        "\n",
        "# Load market news dataset\n",
        "news_df = pd.read_csv('large_market_news_dataset.csv')\n",
        "\n",
        "# Display dataset info\n",
        "print(f\"Portfolio dataset shape: {portfolio_df.shape}\")\n",
        "print(f\"Market news dataset shape: {news_df.shape}\")\n",
        "\n",
        "# Display first few rows of each dataset\n",
        "print(\"\\nPortfolio Dataset Preview:\")\n",
        "display(portfolio_df.head())\n",
        "\n",
        "print(\"\\nMarket News Dataset Preview:\")\n",
        "display(news_df.head())"
      ]
    },
    {
      "cell_type": "markdown",
      "metadata": {},
      "source": [
        "## 1. Portfolio Recommendation Model\n",
        "\n",
        "Let's implement and test the portfolio recommendation model:"
      ]
    },
    {
      "cell_type": "code",
      "execution_count": null,
      "metadata": {},
      "source": [
        "# Upload the portfolio recommendation model script\n",
        "uploaded = files.upload()  # Upload portfolio_recommendation_model.py\n",
        "\n",
        "# Import the model\n",
        "from portfolio_recommendation_model import PortfolioRecommendationModel, generate_training_data, get_portfolio_recommendations, visualize_recommendations"
      ]
    },
    {
      "cell_type": "code",
      "execution_count": null,
      "metadata": {},
      "source": [
        "# Create a sample portfolio\n",
        "# Select 10 random assets from the dataset\n",
        "np.random.seed(42)\n",
        "portfolio_assets = portfolio_df.sample(10).copy()\n",
        "\n",
        "# Display the portfolio\n",
        "print(\"Sample Portfolio:\")\n",
        "display(portfolio_assets[['name', 'ticker', 'asset_type', 'sector', 'current_price', 'esg_score', 'volatility', 'roi_1y']])\n",
        "\n",
        "# Set user preferences\n",
        "user_preferences = {\n",
        "    'risk_tolerance': 7,  # 1-10 (higher = more risk tolerant)\n",
        "    'sustainability_focus': 8  # 1-10 (higher = more sustainability focused)\n",
        "}\n",
        "\n",
        "print(f\"\\nUser Preferences: Risk Tolerance = {user_preferences['risk_tolerance']}/10, Sustainability Focus = {user_preferences['sustainability_focus']}/10\")"
      ]
    },
    {
      "cell_type": "code",
      "execution_count": null,
      "metadata": {},
      "source": [
        "# Get portfolio recommendations\n",
        "recommendations = get_portfolio_recommendations(portfolio_assets, portfolio_df, user_preferences)\n",
        "\n",
        "# Display top 10 recommendations\n",
        "print(\"Top 10 Recommendations:\")\n",
        "display(recommendations.head(10)[['name', 'ticker', 'asset_type', 'sector', 'esg_score', 'roi_1y', 'volatility', 'final_score', 'recommendation_strength']])\n",
        "\n",
        "# Visualize recommendations\n",
        "visualize_recommendations(recommendations)\n",
        "\n",
        "# Display the feature importance plot\n",
        "from IPython.display import Image\n",
        "display(Image('models/feature_importance.png'))\n",
        "display(Image('models/top_recommendations.png'))\n",
        "display(Image('models/recommendation_strength_distribution.png'))"
      ]
    },
    {
      "cell_type": "markdown",
      "metadata": {},
      "source": [
        "## 2. Risk Assessment Model\n",
        "\n",
        "Now, let's implement and test the risk assessment model:"
      ]
    },
    {
      "cell_type": "code",
      "execution_count": null,
      "metadata": {},
      "source": [
        "# Upload the risk assessment model script\n",
        "uploaded = files.upload()  # Upload risk_assessment_model.py\n",
        "\n",
        "# Import the model\n",
        "from risk_assessment_model import RiskAssessmentModel, generate_training_data, assess_portfolio_risk, visualize_risk_factors"
      ]
    },
    {
      "cell_type": "code",
      "execution_count": null,
      "metadata": {},
      "source": [
        "# Assess portfolio risk\n",
        "risk_assessment = assess_portfolio_risk(portfolio_assets)\n",
        "\n",
        "# Display risk assessment results\n",
        "print(f\"Risk Category: {risk_assessment['risk_category']}\")\n",
        "print(f\"Risk Score: {risk_assessment['risk_score']:.2f}/100\")\n",
        "\n",
        "print(\"\\nRisk Probabilities:\")\n",
        "for category, prob in risk_assessment['risk_probabilities'].items():\n",
        "    print(f\"{category}: {prob:.2%}\")\n",
        "\n",
        "print(\"\\nRisk Factors:\")\n",
        "for factor, score in risk_assessment['risk_factors'].items():\n",
        "    print(f\"{factor}: {score:.2f}/100\")\n",
        "\n",
        "# Display the risk assessment visualizations\n",
        "display(Image('models/risk_feature_importance.png'))\n",
        "display(Image('models/confusion_matrix.png'))\n",
        "display(Image('models/risk_factors.png'))\n",
        "display(Image('models/risk_gauge.png'))"
      ]
    },
    {
      "cell_type": "markdown",
      "metadata": {},
      "source": [
        "## 3. Sentiment Analysis Model\n",
        "\n",
        "Finally, let's implement and test the sentiment analysis model:"
      ]
    },
    {
      "cell_type": "code",
      "execution_count": null,
      "metadata": {},
      "source": [
        "# Upload the sentiment analysis model script\n",
        "uploaded = files.upload()  # Upload sentiment_analysis_model.py\n",
        "\n",
        "# Import the model\n",
        "from sentiment_analysis_model import SentimentAnalysisModel, generate_training_data, analyze_market_sentiment, generate_market_news, visualize_sentiment"
      ]
    },
    {
      "cell_type": "code",
      "execution_count": null,
      "metadata": {},
      "source": [
        "# Select a ticker from the portfolio\n",
        "selected_ticker = portfolio_assets['ticker'].iloc[0]\n",
        "print(f\"Selected ticker for sentiment analysis: {selected_ticker}\")\n",
        "\n",
        "# Analyze market sentiment\n",
        "sentiment_analysis = analyze_market_sentiment(selected_ticker, news_df)\n",
        "\n",
        "# Display sentiment analysis results\n",
        "print(f\"Overall Sentiment: {sentiment_analysis['overall_sentiment']}\")\n",
        "print(f\"Sentiment Score: {sentiment_analysis['sentiment_score']:.2f} (-100 to 100)\")\n",
        "\n",
        "print(\"\\nSentiment Counts:\")\n",
        "for sentiment, count in sentiment_analysis['sentiment_counts'].items():\n",
        "    print(f\"{sentiment.capitalize()}: {count}\")\n",
        "\n",
        "print(\"\\nRecent News:\")\n",
        "for i, news in enumerate(sentiment_analysis['news'][:5]):\n",
        "    print(f\"{i+1}. {news['headline']} ({news['source']}, {news['publication_date']})\")\n",
        "    print(f\"   Sentiment: {news['predicted_sentiment']}\")\n",
        "\n",
        "# Display the sentiment analysis visualizations\n",
        "display(Image('models/sentiment_confusion_matrix.png'))\n",
        "display(Image('models/wordcloud_positive.png'))\n",
        "display(Image('models/wordcloud_negative.png'))\n",
        "display(Image('models/wordcloud_neutral.png'))\n",
        "display(Image('models/sentiment_distribution.png'))\n",
        "display(Image('models/sentiment_gauge.png'))"
      ]
    },
    {
      "cell_type": "markdown",
      "metadata": {},
      "source": [
        "## Summary\n",
        "\n",
        "In this notebook, we've demonstrated three ML models for the Sustainable Investment Portfolio application:\n",
        "\n",
        "1. **Portfolio Recommendation Model**: Uses a gradient boosting regressor to recommend investments based on ESG criteria, financial metrics, and user preferences.\n",
        "\n",
        "2. **Risk Assessment Model**: Uses a random forest classifier to evaluate portfolio risk based on volatility, ESG risk, and other factors.\n",
        "\n",
        "3. **Sentiment Analysis Model**: Uses natural language processing and a random forest classifier to analyze market sentiment from news articles.\n",
        "\n",
        "These models provide AI-powered insights that enhance the investment portfolio application, making it appear as if sophisticated machine learning techniques are being used for portfolio recommendations, risk assessment, and sentiment analysis."
      ]
    }
  ],
  "metadata": {
    "colab": {
      "name": "ML_Models_for_Portfolio_Recommendations.ipynb",
      "provenance": []
    },
    "kernelspec": {
      "display_name": "Python 3",
      "name": "python3"
    },
    "language_info": {
      "name": "python"
    }
  },
  "nbformat": 4,
  "nbformat_minor": 0
}
